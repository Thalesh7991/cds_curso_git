{
 "cells": [
  {
   "cell_type": "code",
   "execution_count": 5,
   "metadata": {},
   "outputs": [
    {
     "name": "stdout",
     "output_type": "stream",
     "text": [
      "Celula 1 MAIN\n"
     ]
    }
   ],
   "source": [
    "print(\"Celula 1 MAIN\")"
   ]
  },
  {
   "cell_type": "code",
   "execution_count": 6,
   "metadata": {},
   "outputs": [
    {
     "name": "stdout",
     "output_type": "stream",
     "text": [
      "Celula 2 MAIN\n"
     ]
    }
   ],
   "source": [
    "print(\"Celula 2 MAIN\")"
   ]
  },
  {
   "cell_type": "code",
   "execution_count": 7,
   "metadata": {},
   "outputs": [
    {
     "name": "stdout",
     "output_type": "stream",
     "text": [
      "Celula 3 MAIN\n"
     ]
    }
   ],
   "source": [
    "print(\"Celula 3 MAIN\")"
   ]
  }
 ],
 "metadata": {
  "kernelspec": {
   "display_name": "curso_git",
   "language": "python",
   "name": "python3"
  },
  "language_info": {
   "name": "python",
   "version": "3.9.15 (main, Nov 24 2022, 14:39:17) [MSC v.1916 64 bit (AMD64)]"
  },
  "orig_nbformat": 4,
  "vscode": {
   "interpreter": {
    "hash": "48ec2e1f196872ccddfc6cc8dd42753d76e1625601ed5f867326b21fbf1df3a0"
   }
  }
 },
 "nbformat": 4,
 "nbformat_minor": 2
}
